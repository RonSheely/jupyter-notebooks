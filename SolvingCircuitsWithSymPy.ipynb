{
 "cells": [
  {
   "cell_type": "markdown",
   "metadata": {
    "colab_type": "text",
    "id": "9MIAkAiF05Sa"
   },
   "source": [
    "#Solving circuits with sympy\n",
    "\n",
    "This documents explains how to solve electrical circuits using the **sympy** symbolic math module."
   ]
  },
  {
   "cell_type": "markdown",
   "metadata": {
    "colab_type": "text",
    "id": "9CjQ4pb31OVi"
   },
   "source": [
    "# Imports\n",
    "\n",
    "First we need to import the sympy module"
   ]
  },
  {
   "cell_type": "code",
   "execution_count": null,
   "metadata": {
    "colab": {},
    "colab_type": "code",
    "id": "HAn4g5FS04kO"
   },
   "outputs": [],
   "source": [
    "# Import the sympy module\n",
    "import sympy"
   ]
  },
  {
   "cell_type": "markdown",
   "metadata": {
    "colab_type": "text",
    "id": "ia-er0qc1cQ4"
   },
   "source": [
    "## Example DC circuit\n",
    "\n",
    "The following circuit includes one voltage source, one current source and two resistors.\n",
    "\n",
    "The objective is to obtain the output voltage **Vo** as function of the components.\n",
    "\n",
    "![Circuit 01](https://raw.githubusercontent.com/R6500/Python-bits/master/Colaboratory/Artwork/MC_01.png)\n",
    "\n",
    "The circuit will be solved using the **nodal** method.\n",
    "\n",
    "First we need to locate the circuit **nodes**, assign one as **ground** and assign a number for the rest of them. As the circuit has three nodes and one is ground, we have two nodes left: 1 and 2.\n",
    "\n",
    "We will first generate a set of sympy symbols. There will be:\n",
    "\n",
    "* One symbol for each component: Vs, R1, R2, Is\n",
    "\n",
    "* One current symbol for each power sypply: iVs\n",
    "\n",
    "* One symbol for each measurement we want to obtain: Vo\n",
    "\n",
    "* One symbol for each node voltage that is not ground: V1, V2"
   ]
  },
  {
   "cell_type": "code",
   "execution_count": null,
   "metadata": {
    "colab": {},
    "colab_type": "code",
    "id": "Wv7Xd7Wv1zwI"
   },
   "outputs": [],
   "source": [
    "# Create the circuit symbols\n",
    "Vs,iVs,R1,R2,Is,Vo, V1, V2 = sympy.symbols('Vs,iVs,R1,R2,Is,Vo,V1,V2')"
   ]
  },
  {
   "cell_type": "markdown",
   "metadata": {
    "colab_type": "text",
    "id": "hLyele1p2ua6"
   },
   "source": [
    "Then we can define the current equations on each node except ground.\n",
    "\n",
    "The current equations add all the currents in the node from each component.\n",
    "\n",
    "All equations we add, are supposed to have a result of **zero**."
   ]
  },
  {
   "cell_type": "code",
   "execution_count": null,
   "metadata": {
    "colab": {},
    "colab_type": "code",
    "id": "hOHTqAeE2_Ui"
   },
   "outputs": [],
   "source": [
    "# Create an empty list of equations\n",
    "equations = []\n",
    "\n",
    "# Nodal equations\n",
    "equations.append(iVs-(V1-V2)/R1)       # Node 1\n",
    "equations.append(Is-(V2-V1)/R1-V2/R2)  # Node 2"
   ]
  },
  {
   "cell_type": "markdown",
   "metadata": {
    "colab_type": "text",
    "id": "v661FuGc4DhY"
   },
   "source": [
    "Then we add one equation for each voltage source that associates its voltage with the node voltages.\n",
    "\n",
    "If we want to use two sided equations, we can use the sympy **Eq** function that equates the two sides."
   ]
  },
  {
   "cell_type": "code",
   "execution_count": null,
   "metadata": {
    "colab": {},
    "colab_type": "code",
    "id": "mQ4TaAP94q4S"
   },
   "outputs": [],
   "source": [
    "# Voltage source equations\n",
    "equations.append(sympy.Eq(Vs,V1))"
   ]
  },
  {
   "cell_type": "markdown",
   "metadata": {
    "colab_type": "text",
    "id": "wppe5UYs42Ji"
   },
   "source": [
    "Finally we add one equation for each measurement we want to obtain"
   ]
  },
  {
   "cell_type": "code",
   "execution_count": null,
   "metadata": {
    "colab": {},
    "colab_type": "code",
    "id": "ipKTH-3A46zg"
   },
   "outputs": [],
   "source": [
    "# Measurement equations\n",
    "equations.append(sympy.Eq(Vo,V2))"
   ]
  },
  {
   "cell_type": "markdown",
   "metadata": {
    "colab_type": "text",
    "id": "efLofBzu5Ks8"
   },
   "source": [
    "Now we can define the unknows for the circuit.\n",
    "\n",
    "The number of unknowns shall be equal to the number of equations. \n",
    "\n",
    "The list includes:\n",
    "\n",
    "* The node voltages: V1, V2\n",
    "\n",
    "* The current on voltage sources: iVs\n",
    "\n",
    "* The measurement values: Vo"
   ]
  },
  {
   "cell_type": "code",
   "execution_count": null,
   "metadata": {
    "colab": {},
    "colab_type": "code",
    "id": "2S11V2dG5liq"
   },
   "outputs": [],
   "source": [
    "unknowns = [V1,V2,iVs,Vo]"
   ]
  },
  {
   "cell_type": "markdown",
   "metadata": {
    "colab_type": "text",
    "id": "5u6OyJoy5s8s"
   },
   "source": [
    "We can see the equations and unknows before solving the circuit.\n",
    "\n",
    "To ease reusing the code, we will define a **showCircuit** function that shows equations and unknowns"
   ]
  },
  {
   "cell_type": "code",
   "execution_count": 7,
   "metadata": {
    "colab": {
     "base_uri": "https://localhost:8080/",
     "height": 161
    },
    "colab_type": "code",
    "executionInfo": {
     "elapsed": 3693,
     "status": "ok",
     "timestamp": 1573183410831,
     "user": {
      "displayName": "Ron Sheely",
      "photoUrl": "https://lh3.googleusercontent.com/a-/AAuE7mCWexSF1Mk50ls3PeKhQoPZmic5HnMpNZp0sg2X=s64",
      "userId": "17734408554201871726"
     },
     "user_tz": 480
    },
    "id": "XKJXe4be50PC",
    "outputId": "3b996f64-0420-47fa-e2c6-ebc2ee39affb"
   },
   "outputs": [
    {
     "name": "stdout",
     "output_type": "stream",
     "text": [
      "Equations\n",
      "     iVs - (V1 - V2)/R1\n",
      "     Is - V2/R2 - (-V1 + V2)/R1\n",
      "     Eq(Vs, V1)\n",
      "     Eq(Vo, V2)\n",
      "\n",
      "Unknowns: [V1, V2, iVs, Vo]\n",
      "\n"
     ]
    }
   ],
   "source": [
    "# Define the function\n",
    "def showCircuit():\n",
    "    print('Equations')\n",
    "    for eq in equations:\n",
    "        print('    ',eq)\n",
    "    print()\n",
    "    print('Unknowns:',unknowns)\n",
    "    print()\n",
    "    \n",
    "# Use the function\n",
    "showCircuit()"
   ]
  },
  {
   "cell_type": "markdown",
   "metadata": {
    "colab_type": "text",
    "id": "PPSNi8Et6D0U"
   },
   "source": [
    "Now, we can solve the circuit.\n",
    "\n",
    "The sympy **solve** function gets a list of equations and unknowns and return a **dictionary** with solved unknowns\n",
    "\n",
    "The following code solves the circuit and list the solutions"
   ]
  },
  {
   "cell_type": "code",
   "execution_count": 8,
   "metadata": {
    "colab": {
     "base_uri": "https://localhost:8080/",
     "height": 107
    },
    "colab_type": "code",
    "executionInfo": {
     "elapsed": 3632,
     "status": "ok",
     "timestamp": 1573183410839,
     "user": {
      "displayName": "Ron Sheely",
      "photoUrl": "https://lh3.googleusercontent.com/a-/AAuE7mCWexSF1Mk50ls3PeKhQoPZmic5HnMpNZp0sg2X=s64",
      "userId": "17734408554201871726"
     },
     "user_tz": 480
    },
    "id": "LnwVNI556FsQ",
    "outputId": "df3dd2e9-4d6c-4972-889a-27de10912cd6"
   },
   "outputs": [
    {
     "name": "stdout",
     "output_type": "stream",
     "text": [
      "Solutions\n",
      "   V1 = Vs\n",
      "   V2 = R2*(Is*R1 + Vs)/(R1 + R2)\n",
      "   iVs = (-Is*R2 + Vs)/(R1 + R2)\n",
      "   Vo = R2*(Is*R1 + Vs)/(R1 + R2)\n"
     ]
    }
   ],
   "source": [
    "# Solve the circuit\n",
    "solution = sympy.solve(equations,unknowns)\n",
    "\n",
    "# List the solutions\n",
    "print('Solutions')\n",
    "for sol in solution:\n",
    "    print('  ',sol,'=',solution[sol])"
   ]
  },
  {
   "cell_type": "markdown",
   "metadata": {
    "colab_type": "text",
    "id": "1WHr221U6yG0"
   },
   "source": [
    "Note that, in this case, the equation that includes **iVs** is only needed to obtain this unknown, so we can eliminate its equation and the **iVs** unknown if we don't need the **iVs** solution.\n",
    "\n",
    "Note also that we can easily identify **V1** as **Vs**, so we can also eliminate the **Vs** equation if we use **Vs** as the voltage on node **V1**\n",
    "\n",
    "Finally note that we can also identify **V2** as **Vo** so we can also eliminate the **Vo** equation.\n",
    "\n",
    "The following code solves the circuit using only one equations"
   ]
  },
  {
   "cell_type": "code",
   "execution_count": 9,
   "metadata": {
    "colab": {
     "base_uri": "https://localhost:8080/",
     "height": 35
    },
    "colab_type": "code",
    "executionInfo": {
     "elapsed": 3583,
     "status": "ok",
     "timestamp": 1573183410845,
     "user": {
      "displayName": "Ron Sheely",
      "photoUrl": "https://lh3.googleusercontent.com/a-/AAuE7mCWexSF1Mk50ls3PeKhQoPZmic5HnMpNZp0sg2X=s64",
      "userId": "17734408554201871726"
     },
     "user_tz": 480
    },
    "id": "1FRpU0Ky7ZJC",
    "outputId": "c7cb6b7d-ac03-4d2b-bdf8-f35b9733654c"
   },
   "outputs": [
    {
     "name": "stdout",
     "output_type": "stream",
     "text": [
      "Vo = R2*(Is*R1 + Vs)/(R1 + R2)\n"
     ]
    }
   ],
   "source": [
    "solution = sympy.solve(Is-(Vo-Vs)/R1-Vo/R2,Vo)\n",
    "print('Vo =',solution[0])"
   ]
  },
  {
   "cell_type": "markdown",
   "metadata": {
    "colab_type": "text",
    "id": "BXO9qnwK8RA4"
   },
   "source": [
    "## Solve using the loop current method\n",
    "\n",
    "Instead of using the **nodal** method, we could also use the complementary **loop current** method\n",
    "\n",
    "![Circuit 01b](https://raw.githubusercontent.com/R6500/Python-bits/master/Colaboratory/Artwork/MC_01b.png)\n",
    "\n",
    "In this method we assign a current to each loop in the circuit\n",
    "\n",
    "We will first generate a set of sympy symbols. There will be:\n",
    "\n",
    "* One symbol for each component: Vs, R1, R2, Is\n",
    "\n",
    "* One voltage symbol for each current sypply: Vo\n",
    "\n",
    "* One symbol for each measurement we want to obtain: Vo\n",
    "\n",
    "* One symbol for each loop current: I1, I2\n",
    "\n",
    "Note that, in this circuit, **Vo** appears two times, as the voltage on the **Is** source and as the value to measure. Logically we only define one **Vo** symbol."
   ]
  },
  {
   "cell_type": "code",
   "execution_count": null,
   "metadata": {
    "colab": {},
    "colab_type": "code",
    "id": "URrMD3fbBCmy"
   },
   "outputs": [],
   "source": [
    "# Create the circuit symbols\n",
    "Vs,R1,R2,Is,Vo,I1,I2 = sympy.symbols('Vs,R1,R2,Is,Vo,I1,I2')"
   ]
  },
  {
   "cell_type": "markdown",
   "metadata": {
    "colab_type": "text",
    "id": "Iu_8NJADBEdc"
   },
   "source": [
    "Then we create a list of equations and add one equation for each loop that adds all voltages on the loop"
   ]
  },
  {
   "cell_type": "code",
   "execution_count": null,
   "metadata": {
    "colab": {},
    "colab_type": "code",
    "id": "SyTMLGrRBLBa"
   },
   "outputs": [],
   "source": [
    "# New list of equations\n",
    "equations = []\n",
    "\n",
    "# Loop current equations\n",
    "equations.append(Vs-R1*I1-R2*(I1-I2)) # Loop current 1\n",
    "equations.append(-R2*(I2-I1)-Vo)      # Loop current 2"
   ]
  },
  {
   "cell_type": "markdown",
   "metadata": {
    "colab_type": "text",
    "id": "TDZY9cKXBNvS"
   },
   "source": [
    "Then we create one equation for each current supply that relates it to the loop currents"
   ]
  },
  {
   "cell_type": "code",
   "execution_count": null,
   "metadata": {
    "colab": {},
    "colab_type": "code",
    "id": "3vXgW7asBWam"
   },
   "outputs": [],
   "source": [
    "# Current source equations\n",
    "equations.append(sympy.Eq(Is,-I2))   # Current source Is"
   ]
  },
  {
   "cell_type": "markdown",
   "metadata": {
    "colab_type": "text",
    "id": "YZ-ceeUjBfI-"
   },
   "source": [
    "Now we can define the unknows for the circuit.\n",
    "\n",
    "The number of unknowns shall be equal to the number of equations. \n",
    "\n",
    "The list includes:\n",
    "\n",
    "* The loop currents: I1, I2\n",
    "\n",
    "* The voltage on current sources: Vo\n",
    "\n",
    "* The measurement values: Vo"
   ]
  },
  {
   "cell_type": "code",
   "execution_count": null,
   "metadata": {
    "colab": {},
    "colab_type": "code",
    "id": "mQ0I5rIYBnfw"
   },
   "outputs": [],
   "source": [
    "# Unknowns list\n",
    "unknowns = [I1,I2,Vo]"
   ]
  },
  {
   "cell_type": "markdown",
   "metadata": {
    "colab_type": "text",
    "id": "-imT5s8ABsZ8"
   },
   "source": [
    "We can see the equations and unknows before solving the circuit"
   ]
  },
  {
   "cell_type": "code",
   "execution_count": 14,
   "metadata": {
    "colab": {
     "base_uri": "https://localhost:8080/",
     "height": 143
    },
    "colab_type": "code",
    "executionInfo": {
     "elapsed": 3467,
     "status": "ok",
     "timestamp": 1573183410876,
     "user": {
      "displayName": "Ron Sheely",
      "photoUrl": "https://lh3.googleusercontent.com/a-/AAuE7mCWexSF1Mk50ls3PeKhQoPZmic5HnMpNZp0sg2X=s64",
      "userId": "17734408554201871726"
     },
     "user_tz": 480
    },
    "id": "ne6Wm5nRBtZI",
    "outputId": "933f9672-c501-484e-8dde-c942e6d1ad63"
   },
   "outputs": [
    {
     "name": "stdout",
     "output_type": "stream",
     "text": [
      "Equations\n",
      "     -I1*R1 - R2*(I1 - I2) + Vs\n",
      "     -R2*(-I1 + I2) - Vo\n",
      "     Eq(Is, -I2)\n",
      "\n",
      "Unknowns: [I1, I2, Vo]\n",
      "\n"
     ]
    }
   ],
   "source": [
    "showCircuit()"
   ]
  },
  {
   "cell_type": "markdown",
   "metadata": {
    "colab_type": "text",
    "id": "zjnIN6UWB0rQ"
   },
   "source": [
    "Now we can obtain the solution"
   ]
  },
  {
   "cell_type": "code",
   "execution_count": 15,
   "metadata": {
    "colab": {
     "base_uri": "https://localhost:8080/",
     "height": 35
    },
    "colab_type": "code",
    "executionInfo": {
     "elapsed": 3903,
     "status": "ok",
     "timestamp": 1573183411370,
     "user": {
      "displayName": "Ron Sheely",
      "photoUrl": "https://lh3.googleusercontent.com/a-/AAuE7mCWexSF1Mk50ls3PeKhQoPZmic5HnMpNZp0sg2X=s64",
      "userId": "17734408554201871726"
     },
     "user_tz": 480
    },
    "id": "7hemJzWQ8m1k",
    "outputId": "2e7acdb8-b4c5-47b4-98e4-cf093491aabd"
   },
   "outputs": [
    {
     "name": "stdout",
     "output_type": "stream",
     "text": [
      "Vo = R2*(Is*R1 + Vs)/(R1 + R2)\n"
     ]
    }
   ],
   "source": [
    "# Obtain solution\n",
    "solution = sympy.solve(equations,unknowns)\n",
    "\n",
    "print('Vo =',solution[Vo])"
   ]
  },
  {
   "cell_type": "markdown",
   "metadata": {
    "colab_type": "text",
    "id": "ephK3YJc--hw"
   },
   "source": [
    "As in the **nodal** case, you could have used less equations. For instance, you could have used the **Is** current for the second loop."
   ]
  },
  {
   "cell_type": "code",
   "execution_count": 16,
   "metadata": {
    "colab": {
     "base_uri": "https://localhost:8080/",
     "height": 143
    },
    "colab_type": "code",
    "executionInfo": {
     "elapsed": 3855,
     "status": "ok",
     "timestamp": 1573183411377,
     "user": {
      "displayName": "Ron Sheely",
      "photoUrl": "https://lh3.googleusercontent.com/a-/AAuE7mCWexSF1Mk50ls3PeKhQoPZmic5HnMpNZp0sg2X=s64",
      "userId": "17734408554201871726"
     },
     "user_tz": 480
    },
    "id": "ViyUcgHD_LLa",
    "outputId": "7cf6a668-f3e6-4635-c0fc-1bc0c93c2cc6"
   },
   "outputs": [
    {
     "name": "stdout",
     "output_type": "stream",
     "text": [
      "Equations\n",
      "     -I1*R1 - R2*(I1 + Is) + Vs\n",
      "     R2*(I1 + Is) - Vo\n",
      "\n",
      "Unknowns: [I1, Vo]\n",
      "\n",
      "Vo = R2*(Is*R1 + Vs)/(R1 + R2)\n"
     ]
    }
   ],
   "source": [
    "# Create the circuit symbols\n",
    "Vs,R1,R2,Is,Vo,I1 = sympy.symbols('Vs,R1,R2,Is,Vo,I1')\n",
    "\n",
    "# New list of equations\n",
    "equations = []\n",
    "\n",
    "# Loop current equations\n",
    "equations.append(Vs-R1*I1-R2*(I1+Is)) # Loop current 1\n",
    "equations.append(R2*(Is+I1)-Vo)       # Loop current 2\n",
    "\n",
    "# Unknowns list\n",
    "unknowns = [I1,Vo]\n",
    "\n",
    "# Show equations and unknowns\n",
    "showCircuit()\n",
    "\n",
    "# Obtain solution\n",
    "solution = sympy.solve(equations,unknowns)\n",
    "\n",
    "print('Vo =',solution[Vo])"
   ]
  },
  {
   "cell_type": "markdown",
   "metadata": {
    "colab_type": "text",
    "id": "TCJH3RtlCGom"
   },
   "source": [
    "## Circuit with current measurements\n",
    "\n",
    "The following example is special because the circuit has current measurements **I1** and **I2** that we want to obtain\n",
    "\n",
    "![Circuit 03](https://raw.githubusercontent.com/R6500/Python-bits/master/Colaboratory/Artwork/MC_03.png)\n",
    "\n",
    "The circuit can be solved using four different methods"
   ]
  },
  {
   "cell_type": "markdown",
   "metadata": {
    "colab_type": "text",
    "id": "o_1MeVh-Cavw"
   },
   "source": [
    "### Method #1 : Use nodal method and get currents from resistors\n",
    "\n",
    "In this method we will just use the normal nodal methods and we will compute the currents using Ohm's law\n",
    "\n",
    "Note that we don't need the current on **Vs** so there is no point in obtaining the equation on node 1"
   ]
  },
  {
   "cell_type": "code",
   "execution_count": 17,
   "metadata": {
    "colab": {
     "base_uri": "https://localhost:8080/",
     "height": 179
    },
    "colab_type": "code",
    "executionInfo": {
     "elapsed": 3803,
     "status": "ok",
     "timestamp": 1573183411383,
     "user": {
      "displayName": "Ron Sheely",
      "photoUrl": "https://lh3.googleusercontent.com/a-/AAuE7mCWexSF1Mk50ls3PeKhQoPZmic5HnMpNZp0sg2X=s64",
      "userId": "17734408554201871726"
     },
     "user_tz": 480
    },
    "id": "zHdjh8AyCsqe",
    "outputId": "98507f56-c427-49d7-eeec-8cad7e15736a"
   },
   "outputs": [
    {
     "name": "stdout",
     "output_type": "stream",
     "text": [
      "Equations\n",
      "     -V2/R3 - V2/R2 + (-V2 + Vs)/R1\n",
      "     Eq(I1, V2/R2)\n",
      "     Eq(I2, V2/R3)\n",
      "\n",
      "Unknowns: [V2, I1, I2]\n",
      "\n",
      "I1 = R3*Vs/(R1*R2 + R1*R3 + R2*R3)\n",
      "I2 = R2*Vs/(R1*R2 + R1*R3 + R2*R3)\n"
     ]
    }
   ],
   "source": [
    "# Symbols for the circuit\n",
    "Vs,R1,R2,R3,V2,I1,I2 = sympy.symbols('Vs,R1,R2,R3,V2,I1,I2')\n",
    "\n",
    "# Nodal equation only on node 2\n",
    "equations = []\n",
    "equations.append(-(V2-Vs)/R1-V2/R2-V2/R3)\n",
    "\n",
    "# Equations for the currents using Ohm's law\n",
    "equations.append(sympy.Eq(I1,V2/R2))\n",
    "equations.append(sympy.Eq(I2,V2/R3))\n",
    "\n",
    "# Unknowns\n",
    "unknowns = [V2,I1,I2]\n",
    "\n",
    "# Show equations and unknowns\n",
    "showCircuit()\n",
    "\n",
    "# Solve the circuit\n",
    "solution = sympy.solve(equations,unknowns)\n",
    "\n",
    "print('I1 =',solution[I1])\n",
    "print('I2 =',solution[I2])"
   ]
  },
  {
   "cell_type": "markdown",
   "metadata": {
    "colab_type": "text",
    "id": "ATrCgpDQD0AG"
   },
   "source": [
    "### Method #2 : Use four nodes plus ground\n",
    "\n",
    "We can split the node 2 in three nodes: 2, 3 and 4\n",
    "\n",
    "That way we can use the current equations to obtain I1 and I2\n",
    "\n",
    "As all three nodes have the same voltage, we can set them equal using two equations\n",
    "\n",
    "As in the previous case, we don't need the equation in node 1 "
   ]
  },
  {
   "cell_type": "code",
   "execution_count": 18,
   "metadata": {
    "colab": {
     "base_uri": "https://localhost:8080/",
     "height": 215
    },
    "colab_type": "code",
    "executionInfo": {
     "elapsed": 4256,
     "status": "ok",
     "timestamp": 1573183411897,
     "user": {
      "displayName": "Ron Sheely",
      "photoUrl": "https://lh3.googleusercontent.com/a-/AAuE7mCWexSF1Mk50ls3PeKhQoPZmic5HnMpNZp0sg2X=s64",
      "userId": "17734408554201871726"
     },
     "user_tz": 480
    },
    "id": "H4AJ2BCjEV5c",
    "outputId": "06e74214-ba41-4164-d46f-df1ed9d26b4c"
   },
   "outputs": [
    {
     "name": "stdout",
     "output_type": "stream",
     "text": [
      "Equations\n",
      "     -I1 - I2 + (-V2 + Vs)/R1\n",
      "     I1 - V3/R2\n",
      "     I2 - V4/R3\n",
      "     Eq(V2, V3)\n",
      "     Eq(V2, V4)\n",
      "\n",
      "Unknowns: [V2, V3, V4, I1, I2]\n",
      "\n",
      "I1 = R3*Vs/(R1*R2 + R1*R3 + R2*R3)\n",
      "I2 = R2*Vs/(R1*R2 + R1*R3 + R2*R3)\n"
     ]
    }
   ],
   "source": [
    "# Symbols for the circuit\n",
    "Vs,R1,R2,R3,V2,V3,V4,I1,I2 = sympy.symbols('Vs,R1,R2,R3,V2,V3,V4,I1,I2')\n",
    "\n",
    "# Node equations\n",
    "equations = []\n",
    "equations.append(-(V2-Vs)/R1-I1-I2)  # Node 2\n",
    "equations.append(I1-V3/R2)           # Node 3\n",
    "equations.append(I2-V4/R3)           # Node 4\n",
    "\n",
    "# In fact, nodes 2, 3 and 4 are the same\n",
    "equations.append(sympy.Eq(V2,V3)) \n",
    "equations.append(sympy.Eq(V2,V4))\n",
    "\n",
    "# Unknowns\n",
    "unknowns = [V2,V3,V4,I1,I2]\n",
    "\n",
    "# Show equations and unknowns\n",
    "showCircuit()\n",
    "\n",
    "# Solve the circuit\n",
    "solution = sympy.solve(equations,unknowns)\n",
    "\n",
    "print('I1 =',solution[I1])\n",
    "print('I2 =',solution[I2])"
   ]
  },
  {
   "cell_type": "markdown",
   "metadata": {
    "colab_type": "text",
    "id": "BHu-eXVpFHuK"
   },
   "source": [
    "### Method #3 : Use the loop current method\n",
    "\n",
    "In this case we will define two loop currents \n",
    "\n",
    "* Ia goes on the first loop:  Vs -> R1 -> R2\n",
    "* I2 goes on the second loop: R2 -> R3"
   ]
  },
  {
   "cell_type": "code",
   "execution_count": 19,
   "metadata": {
    "colab": {
     "base_uri": "https://localhost:8080/",
     "height": 179
    },
    "colab_type": "code",
    "executionInfo": {
     "elapsed": 4178,
     "status": "ok",
     "timestamp": 1573183411906,
     "user": {
      "displayName": "Ron Sheely",
      "photoUrl": "https://lh3.googleusercontent.com/a-/AAuE7mCWexSF1Mk50ls3PeKhQoPZmic5HnMpNZp0sg2X=s64",
      "userId": "17734408554201871726"
     },
     "user_tz": 480
    },
    "id": "yRp2LuIkFf2k",
    "outputId": "3f90d902-8f23-4521-e779-2ec266f873ff"
   },
   "outputs": [
    {
     "name": "stdout",
     "output_type": "stream",
     "text": [
      "Equations\n",
      "     -Ia*R1 - R2*(-I2 + Ia) + Vs\n",
      "     -I2*R3 - R2*(I2 - Ia)\n",
      "     Eq(I1, -I2 + Ia)\n",
      "\n",
      "Unknowns: [Ia, I1, I2]\n",
      "\n",
      "I1 = R3*Vs/(R1*R2 + R1*R3 + R2*R3)\n",
      "I2 = R2*Vs/(R1*R2 + R1*R3 + R2*R3)\n"
     ]
    }
   ],
   "source": [
    "# Symbols for the circuit\n",
    "Vs,R1,R2,R3,Ia,I1,I2 = sympy.symbols('Vs,R1,R2,R3,Ia,I1,I2')\n",
    "\n",
    "# Loop equations\n",
    "equations = []\n",
    "equations.append(Vs-R1*Ia-R2*(Ia-I2))  # Loop Ia\n",
    "equations.append(-R2*(I2-Ia)-R3*I2)     # Loop I2\n",
    "\n",
    "# Define I1 from loop currents\n",
    "equations.append(sympy.Eq(I1,Ia-I2))\n",
    "\n",
    "# Unknowns\n",
    "unknowns = [Ia,I1,I2]\n",
    "\n",
    "# Show equations and unknowns\n",
    "showCircuit()\n",
    "\n",
    "# Solve the circuit\n",
    "solution = sympy.solve(equations,unknowns)\n",
    "\n",
    "print('I1 =',solution[I1])\n",
    "print('I2 =',solution[I2])"
   ]
  },
  {
   "cell_type": "markdown",
   "metadata": {
    "colab_type": "text",
    "id": "PZoOhxrFGKns"
   },
   "source": [
    "### Method #4 : Use a modified loop current method\n",
    "\n",
    "In this method we will use **I1** and **I2** as loop currents\n",
    "\n",
    "* I1 goes Vs -> R1 -> R2\n",
    "* I2 goes Vs -> R1 -> R3"
   ]
  },
  {
   "cell_type": "code",
   "execution_count": 20,
   "metadata": {
    "colab": {
     "base_uri": "https://localhost:8080/",
     "height": 161
    },
    "colab_type": "code",
    "executionInfo": {
     "elapsed": 4102,
     "status": "ok",
     "timestamp": 1573183411913,
     "user": {
      "displayName": "Ron Sheely",
      "photoUrl": "https://lh3.googleusercontent.com/a-/AAuE7mCWexSF1Mk50ls3PeKhQoPZmic5HnMpNZp0sg2X=s64",
      "userId": "17734408554201871726"
     },
     "user_tz": 480
    },
    "id": "fc4WnO3WGiiQ",
    "outputId": "d8229542-01ca-4084-b985-620b11df43b0"
   },
   "outputs": [
    {
     "name": "stdout",
     "output_type": "stream",
     "text": [
      "Equations\n",
      "     -I1*R2 - R1*(I1 + I2) + Vs\n",
      "     -I2*R3 - R1*(I1 + I2) + Vs\n",
      "\n",
      "Unknowns: [I1, I2]\n",
      "\n",
      "I1 = R3*Vs/(R1*R2 + R1*R3 + R2*R3)\n",
      "I2 = R2*Vs/(R1*R2 + R1*R3 + R2*R3)\n"
     ]
    }
   ],
   "source": [
    "# Symbols for the circuit\n",
    "Vs,R1,R2,R3,I1,I2 = sympy.symbols('Vs,R1,R2,R3,I1,I2')\n",
    "\n",
    "# Loop equations\n",
    "equations = []\n",
    "equations.append(Vs-R1*(I1+I2)-R2*I1)  # Loop I1\n",
    "equations.append(Vs-R1*(I1+I2)-R3*I2)  # Loop I2\n",
    "\n",
    "# Unknowns\n",
    "unknowns = [I1,I2]\n",
    "\n",
    "# Show equations and unknowns\n",
    "showCircuit()\n",
    "\n",
    "# Solve the circuit\n",
    "solution = sympy.solve(equations,unknowns)\n",
    "\n",
    "print('I1 =',solution[I1])\n",
    "print('I2 =',solution[I2])"
   ]
  },
  {
   "cell_type": "markdown",
   "metadata": {
    "colab_type": "text",
    "id": "e8BbueugI5XC"
   },
   "source": [
    "## Controlled voltage source\n",
    "\n",
    "The following circuit includes voltage controlled source\n",
    "\n",
    "![Circuit 04](https://raw.githubusercontent.com/R6500/Python-bits/master/Colaboratory/Artwork/MC_04.png)\n",
    "\n",
    "In this case we will treat the controlled voltage source as an independent voltage source, but, we will use $k \\cdot V_m$ as its value.\n",
    "\n",
    "That means that we will need to add an equation to add $V_m$ to the set of symbols\n",
    "\n",
    "The following code defines and solves the circuit using the loop current method.\n"
   ]
  },
  {
   "cell_type": "code",
   "execution_count": 21,
   "metadata": {
    "colab": {
     "base_uri": "https://localhost:8080/",
     "height": 179
    },
    "colab_type": "code",
    "executionInfo": {
     "elapsed": 4025,
     "status": "ok",
     "timestamp": 1573183411918,
     "user": {
      "displayName": "Ron Sheely",
      "photoUrl": "https://lh3.googleusercontent.com/a-/AAuE7mCWexSF1Mk50ls3PeKhQoPZmic5HnMpNZp0sg2X=s64",
      "userId": "17734408554201871726"
     },
     "user_tz": 480
    },
    "id": "QdH5mHYWJnuE",
    "outputId": "6f83c47a-ad1e-4a44-b08b-7230df310ffe"
   },
   "outputs": [
    {
     "name": "stdout",
     "output_type": "stream",
     "text": [
      "Equations\n",
      "     -I1*R1 - I1*R2 + Vs\n",
      "     -I2*R3 + Vm*k\n",
      "     Eq(Vm, I1*R2)\n",
      "     Eq(Vo, I2*R3)\n",
      "\n",
      "Unknowns: [I1, I2, Vm, Vo]\n",
      "\n",
      "Vo = R2*Vs*k/(R1 + R2)\n"
     ]
    }
   ],
   "source": [
    "# Symbols for the circuit\n",
    "Vs,R1,R2,k,R3,I1,I2,Vm = sympy.symbols('Vs,R1,R2,k,R3,I1,I2,Vm')\n",
    "\n",
    "# Loop equations\n",
    "equations = []\n",
    "equations.append(Vs-I1*R1-I1*R2)  # Loop I1\n",
    "equations.append(k*Vm-I2*R3)      # Loop I2\n",
    "\n",
    "# Equations for Vm and Vo\n",
    "equations.append(sympy.Eq(Vm,I1*R2))\n",
    "equations.append(sympy.Eq(Vo,I2*R3))\n",
    "\n",
    "# Unknowns\n",
    "unknowns = [I1,I2,Vm,Vo]\n",
    "\n",
    "# Show equations and unknowns\n",
    "showCircuit()\n",
    "\n",
    "# Solve the circuit\n",
    "solution = sympy.solve(equations,unknowns)\n",
    "\n",
    "print('Vo =',solution[Vo])"
   ]
  },
  {
   "cell_type": "markdown",
   "metadata": {
    "colab_type": "text",
    "id": "LViOic8rKHxK"
   },
   "source": [
    "The circuit could also be solved using the nodal method.\n",
    "\n",
    "Remember that we don't need the nodal equations for nodes on grounded supplies if we don't need the supply current"
   ]
  },
  {
   "cell_type": "code",
   "execution_count": 22,
   "metadata": {
    "colab": {
     "base_uri": "https://localhost:8080/",
     "height": 143
    },
    "colab_type": "code",
    "executionInfo": {
     "elapsed": 4543,
     "status": "ok",
     "timestamp": 1573183412521,
     "user": {
      "displayName": "Ron Sheely",
      "photoUrl": "https://lh3.googleusercontent.com/a-/AAuE7mCWexSF1Mk50ls3PeKhQoPZmic5HnMpNZp0sg2X=s64",
      "userId": "17734408554201871726"
     },
     "user_tz": 480
    },
    "id": "GFAYdsUTKXzI",
    "outputId": "c0328db2-636b-4190-ffff-39c2b73d802d"
   },
   "outputs": [
    {
     "name": "stdout",
     "output_type": "stream",
     "text": [
      "Equations\n",
      "     -Vm/R2 + (-Vm + Vs)/R1\n",
      "     Eq(Vo, Vm*k)\n",
      "\n",
      "Unknowns: [Vm, Vo]\n",
      "\n",
      "Vo = R2*Vs*k/(R1 + R2)\n"
     ]
    }
   ],
   "source": [
    "# Symbols for the circuit\n",
    "Vs,Vm,Vo,R1,R2,k = sympy.symbols('Vs,Vm,Vo,R1,R2,k')\n",
    "\n",
    "# Node equation\n",
    "equations = []\n",
    "equations.append(-(Vm-Vs)/R1-Vm/R2)\n",
    "\n",
    "# Equation for Vo\n",
    "equations.append(sympy.Eq(Vo,k*Vm))\n",
    "\n",
    "# Unknowns\n",
    "unknowns = [Vm,Vo]\n",
    "\n",
    "# Show equations and unknowns\n",
    "showCircuit()\n",
    "\n",
    "# Solve the circuit\n",
    "solution = sympy.solve(equations,unknowns)\n",
    "\n",
    "print('Vo =',solution[Vo])"
   ]
  },
  {
   "cell_type": "markdown",
   "metadata": {
    "colab_type": "text",
    "id": "6KruBUnIWX4k"
   },
   "source": [
    "## RC Circuit\n",
    "\n",
    "Now we can also solve circuits with capacitor or inductors\n",
    "\n",
    "You just need to define the **capacitors** currents and voltages as function of the **s** variable:\n",
    "\n",
    "$\\qquad i_C = V_C \\cdot C \\cdot s \\qquad v_C = \\frac{i_C}{C \\cdot s}$\n",
    "\n",
    "Also, for **inductors**:\n",
    "\n",
    "$\\qquad i_L = \\frac{V_L}{L \\cdot s} \\qquad v_L = i_L \\cdot L \\cdot s$\n",
    "\n",
    "We will use the following circuit as an example\n",
    "\n",
    "![Circuit 02](https://raw.githubusercontent.com/R6500/Python-bits/master/Colaboratory/Artwork/Circuit02.png)\n",
    "\n",
    "The following code describes and solves the circuit using the current loop method"
   ]
  },
  {
   "cell_type": "code",
   "execution_count": 23,
   "metadata": {
    "colab": {
     "base_uri": "https://localhost:8080/",
     "height": 179
    },
    "colab_type": "code",
    "executionInfo": {
     "elapsed": 4465,
     "status": "ok",
     "timestamp": 1573183412528,
     "user": {
      "displayName": "Ron Sheely",
      "photoUrl": "https://lh3.googleusercontent.com/a-/AAuE7mCWexSF1Mk50ls3PeKhQoPZmic5HnMpNZp0sg2X=s64",
      "userId": "17734408554201871726"
     },
     "user_tz": 480
    },
    "id": "K-pdnemKYsNw",
    "outputId": "1ad0235d-736b-4ed1-ba0d-bc8f9f8e91a4"
   },
   "outputs": [
    {
     "name": "stdout",
     "output_type": "stream",
     "text": [
      "Equations\n",
      "     -I1*R1 + Vs - (I1 - I2)/(C1*s)\n",
      "     -I2*R3 - I2/(C2*s) + (I1 - I2)/(C1*s)\n",
      "     Eq(Vo, I2/(C2*s))\n",
      "\n",
      "Unknowns: [I1, I2, Vo]\n",
      "\n",
      "Solution\n",
      "   Vo = -C1*Vs/(C2 - (C1*R1*s + 1)*(C1*C2*R3*s + C1 + C2))\n"
     ]
    }
   ],
   "source": [
    "# Symbols for the circuit\n",
    "Vs,R1,R3,C1,C2,Vo,I1,I2,s = sympy.symbols('Vs,R1,R3,C1,C2,Vo,I1,I2,s')\n",
    "\n",
    "# Loop equations\n",
    "equations = []\n",
    "equations.append(Vs-R1*I1-(I1-I2)/(C1*s))\n",
    "equations.append(-(I2-I1)/(C1*s)-R3*I2-I2/(C2*s))\n",
    "\n",
    "# Equation for Vo\n",
    "equations.append(sympy.Eq(Vo,I2/(C2*s)))\n",
    "\n",
    "# Unknowns\n",
    "unknowns = [I1,I2,Vo]\n",
    "\n",
    "# Show equations and unknowns\n",
    "showCircuit()\n",
    "\n",
    "# Solve the circuit\n",
    "solution = sympy.solve(equations,unknowns)\n",
    "\n",
    "Vo_s = solution[Vo]\n",
    "print('Solution')\n",
    "print('   Vo =',Vo_s)"
   ]
  },
  {
   "cell_type": "markdown",
   "metadata": {
    "colab_type": "text",
    "id": "yoEK0acgZYha"
   },
   "source": [
    "We can obtain a better solution equation using **simplify**, **expand** and **collect** from the sympy module"
   ]
  },
  {
   "cell_type": "code",
   "execution_count": 24,
   "metadata": {
    "colab": {
     "base_uri": "https://localhost:8080/",
     "height": 53
    },
    "colab_type": "code",
    "executionInfo": {
     "elapsed": 4354,
     "status": "ok",
     "timestamp": 1573183412534,
     "user": {
      "displayName": "Ron Sheely",
      "photoUrl": "https://lh3.googleusercontent.com/a-/AAuE7mCWexSF1Mk50ls3PeKhQoPZmic5HnMpNZp0sg2X=s64",
      "userId": "17734408554201871726"
     },
     "user_tz": 480
    },
    "id": "JomsGpcbZg-Q",
    "outputId": "fab43e53-b73e-48a2-a716-908eef9fd502"
   },
   "outputs": [
    {
     "name": "stdout",
     "output_type": "stream",
     "text": [
      "Prettier solution\n",
      "   Vo = Vs/(C1*C2*R1*R3*s**2 + s*(C1*R1 + C2*R1 + C2*R3) + 1)\n"
     ]
    }
   ],
   "source": [
    "# Use simplify, expand and collect to give a prettier equation\n",
    "Vo_s = Vo_s.simplify().expand()          # Eliminate quotients of quotients\n",
    "Vo_s = sympy.collect(Vo_s,s).simplify()  # Group s symbols and simplify\n",
    "\n",
    "print('Prettier solution')\n",
    "print('   Vo =',Vo_s)"
   ]
  },
  {
   "cell_type": "markdown",
   "metadata": {
    "colab_type": "text",
    "id": "VGf9It9laHrK"
   },
   "source": [
    "We can obtian a particular solution using numbers to substitute the literals\n",
    "\n",
    "To substitute one symbol you can use:\n",
    "\n",
    ">`expr.subs(oldSymbol,newSymbol)`\n",
    "\n",
    "But, in order to substitute several symbols at once you can use a substitution dictionary:\n",
    "\n",
    ">`expr.subs({old1:new1,old2:new2,....})`\n",
    "\n",
    "Substituting in our example we get a **particular** solution"
   ]
  },
  {
   "cell_type": "code",
   "execution_count": 25,
   "metadata": {
    "colab": {
     "base_uri": "https://localhost:8080/",
     "height": 53
    },
    "colab_type": "code",
    "executionInfo": {
     "elapsed": 4298,
     "status": "ok",
     "timestamp": 1573183412541,
     "user": {
      "displayName": "Ron Sheely",
      "photoUrl": "https://lh3.googleusercontent.com/a-/AAuE7mCWexSF1Mk50ls3PeKhQoPZmic5HnMpNZp0sg2X=s64",
      "userId": "17734408554201871726"
     },
     "user_tz": 480
    },
    "id": "tHajNp2Ralgc",
    "outputId": "00156f47-d550-40a6-b357-ca88b352673b"
   },
   "outputs": [
    {
     "name": "stdout",
     "output_type": "stream",
     "text": [
      "Particular solution\n",
      "    H(s) = Vo(s)/Vs(s) = 1/(1.0e-8*s**2 + 0.00111*s + 1)\n"
     ]
    }
   ],
   "source": [
    "H_s = Vo_s.subs({Vs:1,R1:1000,R3:100,C1:1e-6,C2:100e-9})\n",
    "H_s = H_s.simplify()\n",
    "\n",
    "print('Particular solution')\n",
    "print('    H(s) = Vo(s)/Vs(s) =',H_s)"
   ]
  },
  {
   "cell_type": "markdown",
   "metadata": {
    "colab_type": "text",
    "id": "Ebcjc4zzbWVc"
   },
   "source": [
    "We can also get the **poles**, the **zeros** and the **DC gain**"
   ]
  },
  {
   "cell_type": "code",
   "execution_count": 26,
   "metadata": {
    "colab": {
     "base_uri": "https://localhost:8080/",
     "height": 143
    },
    "colab_type": "code",
    "executionInfo": {
     "elapsed": 5068,
     "status": "ok",
     "timestamp": 1573183413371,
     "user": {
      "displayName": "Ron Sheely",
      "photoUrl": "https://lh3.googleusercontent.com/a-/AAuE7mCWexSF1Mk50ls3PeKhQoPZmic5HnMpNZp0sg2X=s64",
      "userId": "17734408554201871726"
     },
     "user_tz": 480
    },
    "id": "kqx8OqnjbVus",
    "outputId": "cdf405ea-b8f3-4589-a0bf-3b80536ba7df"
   },
   "outputs": [
    {
     "name": "stdout",
     "output_type": "stream",
     "text": [
      "Num = 1\n",
      "Den = 1.0e-8*s**2 + 0.00111*s + 1\n",
      "\n",
      "Zeros = {}\n",
      "Poles = {-110091.666030631: 1, -908.333969368548: 1}\n",
      "\n",
      "DC gain = 1.00000000000000\n"
     ]
    }
   ],
   "source": [
    "numer,denom =H_s.as_numer_denom()\n",
    "print('Num =',numer)\n",
    "print('Den =',denom)\n",
    "print()\n",
    "\n",
    "zeros = sympy.roots(numer,s)\n",
    "poles = sympy.roots(denom,s)\n",
    "print('Zeros =',zeros)\n",
    "print('Poles =',poles)\n",
    "print()\n",
    "\n",
    "print('DC gain =',H_s.subs(s,0).evalf())"
   ]
  },
  {
   "cell_type": "markdown",
   "metadata": {
    "colab_type": "text",
    "id": "dYndcJqwLF_m"
   },
   "source": [
    "## Opamp circuit\n",
    "\n",
    "We can also solve operational amplifier circuits\n",
    "\n",
    "![Circuit 09](https://raw.githubusercontent.com/R6500/Python-bits/master/Colaboratory/Artwork/MC_09.png)\n",
    "\n",
    "The easiest solution is obtained if we can guarantee that the **virtual shortcircuit** holds\n",
    "\n",
    "In this case, the opamp output is an unknown and the two input voltages are equal:\n",
    "\n",
    "$\\qquad V_{(+)}=V_{(-)}$ \n",
    "\n",
    "We will use the nodal method.\n",
    "\n",
    "Remember that we don't need the node equations in nodes 1 and 3 because we don't need the source currents"
   ]
  },
  {
   "cell_type": "code",
   "execution_count": 27,
   "metadata": {
    "colab": {
     "base_uri": "https://localhost:8080/",
     "height": 143
    },
    "colab_type": "code",
    "executionInfo": {
     "elapsed": 5020,
     "status": "ok",
     "timestamp": 1573183413381,
     "user": {
      "displayName": "Ron Sheely",
      "photoUrl": "https://lh3.googleusercontent.com/a-/AAuE7mCWexSF1Mk50ls3PeKhQoPZmic5HnMpNZp0sg2X=s64",
      "userId": "17734408554201871726"
     },
     "user_tz": 480
    },
    "id": "7rFPl_LnLk3Q",
    "outputId": "07f8c4c2-31a9-48bc-e110-36ffc65e2ce0"
   },
   "outputs": [
    {
     "name": "stdout",
     "output_type": "stream",
     "text": [
      "Equations\n",
      "     (-V2 + Vs)/Ri - (V2 - Vo)/Rf\n",
      "     V2\n",
      "\n",
      "Unknowns: [V2, Vo]\n",
      "\n",
      "Vo = -Rf*Vs/Ri\n"
     ]
    }
   ],
   "source": [
    "# Symbols for the circuit\n",
    "Vs,Ri,Rf,Vo,V2 = sympy.symbols('Vs,Ri,Rf,Vo,V2')\n",
    "\n",
    "# Node equation\n",
    "equations = []\n",
    "equations.append(-(V2-Vs)/Ri-(V2-Vo)/Rf)\n",
    "\n",
    "# Virtual shortcircuit\n",
    "equations.append(V2)  # V2 = V(+) = 0\n",
    "\n",
    "# Unknowns\n",
    "unknowns = [V2,Vo]\n",
    "\n",
    "# Show equations and unknowns\n",
    "showCircuit()\n",
    "\n",
    "# Solve the circuit\n",
    "solution = sympy.solve(equations,unknowns)\n",
    "\n",
    "print('Vo =',solution[Vo])"
   ]
  },
  {
   "cell_type": "markdown",
   "metadata": {
    "colab_type": "text",
    "id": "g-QfHCthMrhq"
   },
   "source": [
    "### Finite gain solution\n",
    "\n",
    "If we don't want to use the **virtual short circuit** we can solve the opamp as a voltage controlled voltage source\n",
    "\n",
    "In this case the opamp can be defined with two equations:\n",
    "\n",
    "$\\qquad V_d = V_{(+)}-V_{(-)}$\n",
    "\n",
    "$\\qquad  V_O = A \\cdot V_d $\n",
    "\n",
    "Then, the ideal case will be given when $A \\rightarrow \\infty$"
   ]
  },
  {
   "cell_type": "code",
   "execution_count": 28,
   "metadata": {
    "colab": {
     "base_uri": "https://localhost:8080/",
     "height": 269
    },
    "colab_type": "code",
    "executionInfo": {
     "elapsed": 4969,
     "status": "ok",
     "timestamp": 1573183413390,
     "user": {
      "displayName": "Ron Sheely",
      "photoUrl": "https://lh3.googleusercontent.com/a-/AAuE7mCWexSF1Mk50ls3PeKhQoPZmic5HnMpNZp0sg2X=s64",
      "userId": "17734408554201871726"
     },
     "user_tz": 480
    },
    "id": "4SuoPEfiNDUU",
    "outputId": "d135ea2e-cd96-44a1-d675-de322f788185"
   },
   "outputs": [
    {
     "name": "stdout",
     "output_type": "stream",
     "text": [
      "Equations\n",
      "     (-V2 + Vs)/Ri - (V2 - Vo)/Rf\n",
      "     Eq(Vd, -V2)\n",
      "     Eq(Vo, A*Vd)\n",
      "\n",
      "Unknowns: [V2, Vo, Vd]\n",
      "\n",
      "Solution as function of A\n",
      "\n",
      "   Vo = -A*Rf*Vs/(A*Ri + Rf + Ri)\n",
      "\n",
      "Solution for A -> oo\n",
      "\n",
      "   Vo = -Rf*Vs/Ri\n"
     ]
    }
   ],
   "source": [
    "# Symbols for the circuit\n",
    "Vs,Ri,Rf,Vo,V2,Vd,A = sympy.symbols('Vs,Ri,Rf,Vo,V2,Vd,A')\n",
    "\n",
    "# Node equation\n",
    "equations = []\n",
    "equations.append(-(V2-Vs)/Ri-(V2-Vo)/Rf)\n",
    "\n",
    "# Opamp equations\n",
    "equations.append(sympy.Eq(Vd,0-V2))\n",
    "equations.append(sympy.Eq(Vo,A*Vd))\n",
    "\n",
    "# Unknowns\n",
    "unknowns = [V2,Vo,Vd]\n",
    "\n",
    "# Show equations and unknowns\n",
    "showCircuit()\n",
    "\n",
    "# Solve the circuit\n",
    "solution = sympy.solve(equations,unknowns)\n",
    "\n",
    "print('Solution as function of A')\n",
    "print()\n",
    "print('   Vo =',solution[Vo])\n",
    "print()\n",
    "print('Solution for A -> oo')\n",
    "print()\n",
    "print('   Vo =',sympy.limit(solution[Vo],A,sympy.oo))"
   ]
  },
  {
   "cell_type": "markdown",
   "metadata": {
    "colab_type": "text",
    "id": "GGSHMF44PMPg"
   },
   "source": [
    "### Dominant pole solution\n",
    "\n",
    "Having a solution as function of **A** enables us to obtain the response of the circuit using a dominant pole model for the operational amplifier.\n",
    "\n",
    "Just susbtitute, in the solution **A** for the one pole model of the opamp\n",
    "\n",
    "$\\qquad A = \\frac{Ao \\cdot p1}{s+p1}$"
   ]
  },
  {
   "cell_type": "code",
   "execution_count": 29,
   "metadata": {
    "colab": {
     "base_uri": "https://localhost:8080/",
     "height": 35
    },
    "colab_type": "code",
    "executionInfo": {
     "elapsed": 4917,
     "status": "ok",
     "timestamp": 1573183413397,
     "user": {
      "displayName": "Ron Sheely",
      "photoUrl": "https://lh3.googleusercontent.com/a-/AAuE7mCWexSF1Mk50ls3PeKhQoPZmic5HnMpNZp0sg2X=s64",
      "userId": "17734408554201871726"
     },
     "user_tz": 480
    },
    "id": "WBA4-VnIPl5c",
    "outputId": "6fe2775e-379d-4f97-b845-e9ea82552ef2"
   },
   "outputs": [
    {
     "name": "stdout",
     "output_type": "stream",
     "text": [
      "Vo(s) = -Ao*Rf*Vs*p1/(Rf*p1 + Ri*(Ao*p1 + p1) + s*(Rf + Ri))\n"
     ]
    }
   ],
   "source": [
    "# New A, p1 and s symbols\n",
    "Ao,p1,s = sympy.symbols('Ao,p1,s')\n",
    "\n",
    "Vo_s = solution[Vo].subs(A,Ao*p1/(s+p1))\n",
    "\n",
    "# Use simplify, expand and collect to give a prettier equation\n",
    "Vo_s = Vo_s.simplify().expand()  # Eliminate quotients of quotients\n",
    "Vo_s = sympy.collect(Vo_s,s)     # Group s symbols\n",
    "Vo_s = sympy.collect(Vo_s,Ri)    # Group Ri symbols\n",
    "\n",
    "print('Vo(s) =',Vo_s)"
   ]
  },
  {
   "cell_type": "markdown",
   "metadata": {
    "colab_type": "text",
    "id": "JPEcpHk0RKpW"
   },
   "source": [
    "We can obtian, as in a previous example, a particular solution using numbers to substitute the literals\n",
    "\n",
    "In our opamp circuit solution we substitute:\n",
    "\n",
    "* Circuit resistors: R1, R2\n",
    "\n",
    "* Opamp model: Ao, p1\n",
    "\n",
    "We also substitute Vs for 1 to obtain the transfer function $H(s)$\n",
    "\n",
    "$\\qquad H(s)=\\frac{V_O(s)}{V_s(s)}$"
   ]
  },
  {
   "cell_type": "code",
   "execution_count": 30,
   "metadata": {
    "colab": {
     "base_uri": "https://localhost:8080/",
     "height": 35
    },
    "colab_type": "code",
    "executionInfo": {
     "elapsed": 4520,
     "status": "ok",
     "timestamp": 1573183413405,
     "user": {
      "displayName": "Ron Sheely",
      "photoUrl": "https://lh3.googleusercontent.com/a-/AAuE7mCWexSF1Mk50ls3PeKhQoPZmic5HnMpNZp0sg2X=s64",
      "userId": "17734408554201871726"
     },
     "user_tz": 480
    },
    "id": "-tpRSuuBRJ_c",
    "outputId": "c66d7fcd-6d1a-428e-d6ec-80b8b01249ab"
   },
   "outputs": [
    {
     "name": "stdout",
     "output_type": "stream",
     "text": [
      "H(s) = -160000000000/(110000*s + 16001760000)\n"
     ]
    }
   ],
   "source": [
    "H_s = Vo_s.subs({Vs:1,Ao:100000,Rf:100000,Ri:10000,p1:16})\n",
    "print('H(s) =',H_s)"
   ]
  },
  {
   "cell_type": "markdown",
   "metadata": {
    "colab_type": "text",
    "id": "Tpc4oSNETe_k"
   },
   "source": [
    "Now you can also obtain the **poles** and **zeros** of $H(s)$\n",
    "\n",
    "Also we can get the DC gain\n",
    "\n",
    "We will use the **evalf()** method that evaluates a **sympy** expression to a floating point number"
   ]
  },
  {
   "cell_type": "code",
   "execution_count": 31,
   "metadata": {
    "colab": {
     "base_uri": "https://localhost:8080/",
     "height": 143
    },
    "colab_type": "code",
    "executionInfo": {
     "elapsed": 4461,
     "status": "ok",
     "timestamp": 1573183413414,
     "user": {
      "displayName": "Ron Sheely",
      "photoUrl": "https://lh3.googleusercontent.com/a-/AAuE7mCWexSF1Mk50ls3PeKhQoPZmic5HnMpNZp0sg2X=s64",
      "userId": "17734408554201871726"
     },
     "user_tz": 480
    },
    "id": "lyKXfJ17TjQc",
    "outputId": "3c93f467-e8ae-48e9-bed8-9e62c0eb52d6"
   },
   "outputs": [
    {
     "name": "stdout",
     "output_type": "stream",
     "text": [
      "Num = -160000000000\n",
      "Den = 110000*s + 16001760000\n",
      "\n",
      "Zeros = {}\n",
      "Poles = {-1600176/11: 1}\n",
      "\n",
      "DC gain = -9.99890012098669\n"
     ]
    }
   ],
   "source": [
    "numer,denom =H_s.as_numer_denom()\n",
    "print('Num =',numer)\n",
    "print('Den =',denom)\n",
    "print()\n",
    "\n",
    "zeros = sympy.roots(numer,s)\n",
    "poles = sympy.roots(denom,s)\n",
    "print('Zeros =',zeros)\n",
    "print('Poles =',poles)\n",
    "print()\n",
    "\n",
    "print('DC gain =',H_s.subs(s,0).evalf())"
   ]
  },
  {
   "cell_type": "markdown",
   "metadata": {
    "colab_type": "text",
    "id": "UgHaPBay-2Xw"
   },
   "source": [
    "<BR><BR><BR><BR><BR><BR>\n",
    "\n",
    "## Document information\n",
    "\n",
    "Copyright © Vicente Jiménez (2018)\n",
    "\n",
    "Last update: 26/3/2018\n",
    "\n",
    "This work is licensed under a [Creative Common Attribution-ShareAlike 4.0 International license](http://creativecommons.org/licenses/by-sa/4.0/). \n",
    "\n",
    "You can find the module [here](https://github.com/R6500/Python-bits/tree/master/Modules)\n",
    "\n",
    "See my blogs [AIM65](http://aim65.blogspot.com.es/) (in spanish) and [R6500](http://r6500.blogspot.com.es/) (in english)"
   ]
  }
 ],
 "metadata": {
  "colab": {
   "collapsed_sections": [],
   "name": "Solving Circuits with sympy.ipynb",
   "provenance": [
    {
     "file_id": "1hWYPdNfYP0Pwf3YlKWjV_P-d0-krTcAU",
     "timestamp": 1573162873429
    }
   ]
  },
  "kernelspec": {
   "display_name": "Python 3",
   "language": "python",
   "name": "python3"
  },
  "language_info": {
   "codemirror_mode": {
    "name": "ipython",
    "version": 3
   },
   "file_extension": ".py",
   "mimetype": "text/x-python",
   "name": "python",
   "nbconvert_exporter": "python",
   "pygments_lexer": "ipython3",
   "version": "3.8.2"
  }
 },
 "nbformat": 4,
 "nbformat_minor": 4
}
