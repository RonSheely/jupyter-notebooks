{
 "cells": [
  {
   "cell_type": "markdown",
   "metadata": {},
   "source": [
    "How can I detrermine the default VirtualBox machine folder? Start VirtualBox and select Preferences - General - Default Machine Folder, where we can view or edit the folder name.\n",
    "\n",
    "For my MacOS, the default folder is: /Users/ronsheely/VirtualBox VMs"
   ]
  },
  {
   "cell_type": "markdown",
   "metadata": {},
   "source": [
    "How do I remove a VirtualBox machine? See section 1.12 in the VirtualBox User Manual - Removing virtual machines. To remove a virtual machine which you no longer need, right-click on it in the Manager’s VM list select “Remove” from the context menu that comes up."
   ]
  }
 ],
 "metadata": {
  "kernelspec": {
   "display_name": "Python 3",
   "language": "python",
   "name": "python3"
  },
  "language_info": {
   "codemirror_mode": {
    "name": "ipython",
    "version": 3
   },
   "file_extension": ".py",
   "mimetype": "text/x-python",
   "name": "python",
   "nbconvert_exporter": "python",
   "pygments_lexer": "ipython3",
   "version": "3.6.0"
  }
 },
 "nbformat": 4,
 "nbformat_minor": 2
}
