{
 "cells": [
  {
   "cell_type": "markdown",
   "metadata": {
    "colab_type": "text",
    "id": "QAx8lgLSKJkI"
   },
   "source": [
    "# Common Emitter\n",
    "\n",
    "This document describes and simulates the BJT Common Emitter circuit\n",
    "\n",
    "![Common Emitter](https://raw.githubusercontent.com/R6500/Python-bits/master/Colaboratory/Artwork/Common_Emitter.png)\n",
    "\n",
    "Before working with this circuit we will load some Python modules.\n",
    "\n",
    "**Execute** the following code to load the required Python modules.\n"
   ]
  },
  {
   "cell_type": "code",
   "execution_count": null,
   "metadata": {
    "colab": {
     "base_uri": "https://localhost:8080/",
     "height": 36
    },
    "colab_type": "code",
    "executionInfo": {
     "elapsed": 28,
     "status": "ok",
     "timestamp": 1521327565320,
     "user": {
      "displayName": "Vicente Jimenez",
      "photoUrl": "//lh4.googleusercontent.com/-l1GS4wWn-mI/AAAAAAAAAAI/AAAAAAAAAZE/i_NQ2m6L6rI/s50-c-k-no/photo.jpg",
      "userId": "104735520205871768811"
     },
     "user_tz": -60
    },
    "id": "xYgluNLzKGzn",
    "outputId": "ca8e9664-49f0-4b3f-a85c-056c1cf81593"
   },
   "outputs": [
    {
     "name": "stdout",
     "output_type": "stream",
     "text": [
      "calc version:  15/3/2018-C\n"
     ]
    }
   ],
   "source": [
    "# The code is designed to work with Python 3.x\n",
    "# To provide Python 2.7 compatibility, we can use two imports:\n",
    "from __future__ import print_function\n",
    "from __future__ import division\n",
    "\n",
    "# Set to True if we are in colaboratory of False elsewere\n",
    "colaboratory = True\n",
    "\n",
    "if colaboratory:\n",
    "    # We also load the calc module\n",
    "    !rm calc.*\n",
    "    !wget https://raw.githubusercontent.com/R6500/Python-bits/master/Modules/calc.py\n",
    "    \n",
    "# We load numpy, jplot and calc\n",
    "import numpy as np\n",
    "import calc\n",
    "\n",
    "# Erase output after import\n",
    "from IPython.display import clear_output\n",
    "clear_output()\n",
    "\n",
    "# Check loaded module\n",
    "try:\n",
    "    print('calc version: ',calc.version)\n",
    "except:\n",
    "    print('Error loading the calc module')"
   ]
  },
  {
   "cell_type": "markdown",
   "metadata": {
    "colab_type": "text",
    "id": "3nrN2JoBK8-O"
   },
   "source": [
    "## Circuit parameters\n",
    "\n",
    "Now we will define the circuit parameters\n",
    "\n",
    "**Execute** the following code to do that"
   ]
  },
  {
   "cell_type": "code",
   "execution_count": null,
   "metadata": {
    "colab": {},
    "colab_type": "code",
    "id": "UCxPsdlcLIbq"
   },
   "outputs": [],
   "source": [
    "# Input signal amplitude\n",
    "# Nominal valur is 0.01 (10 mV)\n",
    "# Use a 0.2 value to see the saturation effect\n",
    "Ai = 0.01 # Peak voltage [V]\n",
    "\n",
    "# Circuit parameters\n",
    "Vdd = 12.0     # [V]\n",
    "Ra  = 180000.0 # [Ohms]\n",
    "Rb  = 22000.0  # [Ohms]\n",
    "Rc  = 820.0    # [Ohms]\n",
    "Ci  = 1e-6     # [F]\n",
    "\n",
    "# BJT parameters\n",
    "Is     = 1e-9         # [A]\n",
    "nVt    = 2.0*26.0e-3  # [V]\n",
    "Beta   = 200.0        # [ ]\n",
    "VceSat = 0.2          # [V]"
   ]
  },
  {
   "cell_type": "markdown",
   "metadata": {
    "colab_type": "text",
    "id": "M4LK7XoyLX-8"
   },
   "source": [
    "## Operating point calculations\n",
    "\n",
    "Now we will do the operating point calculations on the circuit\n",
    "\n",
    "We will start calculating the Thevenin equivalent for Ra and Rb connected to Vdd\n",
    "\n",
    ">$V_{TH} = \\frac{Rb}{Ra+Rb}Vdd$\n",
    ">$R_{TH} = \\frac{Ra*Rb}{Ra+Rb}$\n",
    "\n",
    "The equations for the base current are:\n",
    "\n",
    ">$V_{TH} - I_{BEQ} \\cdot R_{TH} - V_{BEQ} = 0$\n",
    ">$V_{BEQ} \\approx \\eta \\cdot V_T \\cdot ln(\\frac{I_{BEQ}}{I_S})$\n",
    "\n",
    "Unfortunatelly the above equations cannot be solved just using algebra.\n",
    "\n",
    "We can use a **$V_{BE}Q$** value approximation or we can use a numeric approximation to obtain this voltage\n",
    "\n",
    "Basically we take a seed **$V_{BE}Q$** value and compute **$I_{BE}Q$** from the first equation. From that we use the second equation to obtain a new, more exact, **$V_{BE}Q$** value. Then, just rinse and repeat until you have a good enough **$V_{BE}Q$** value.\n",
    "\n",
    "**Execute** the following code to do the calculations"
   ]
  },
  {
   "cell_type": "code",
   "execution_count": null,
   "metadata": {
    "colab": {
     "base_uri": "https://localhost:8080/",
     "height": 130
    },
    "colab_type": "code",
    "executionInfo": {
     "elapsed": 524,
     "status": "ok",
     "timestamp": 1521327579014,
     "user": {
      "displayName": "Vicente Jimenez",
      "photoUrl": "//lh4.googleusercontent.com/-l1GS4wWn-mI/AAAAAAAAAAI/AAAAAAAAAZE/i_NQ2m6L6rI/s50-c-k-no/photo.jpg",
      "userId": "104735520205871768811"
     },
     "user_tz": -60
    },
    "id": "OA-K2sPFLjFT",
    "outputId": "83e94cb7-4dc6-4f8d-dc98-f37c12fe2e5e"
   },
   "outputs": [
    {
     "name": "stdout",
     "output_type": "stream",
     "text": [
      "Thevenin circuit calculations\n",
      "Vth = 1.307 V\n",
      "Rth = 19.604 kOhm\n",
      "\n",
      "Operating point calculations\n",
      "VbeQ = 547.257 mV\n"
     ]
    }
   ],
   "source": [
    "# Thevenin circuit\n",
    "print (\"Thevenin circuit calculations\")\n",
    "\n",
    "Vth = Vdd*Rb/(Ra+Rb)\n",
    "Rth = Ra*Rb/(Ra+Rb)\n",
    "\n",
    "calc.printVar(\"Vth\",Vth,\"V\")\n",
    "calc.printVar(\"Rth\",Rth,\"Ohm\")\n",
    "print()\n",
    "\n",
    "# Operating point ##################################################\n",
    "\n",
    "print(\"Operating point calculations\")\n",
    "\n",
    "'''\n",
    "We solve the Vbe value at the operating point by using\n",
    "the iterative solution for the diode exponential equation\n",
    "'''\n",
    "\n",
    "# Base solver function\n",
    "def calcVd(vd):\n",
    "    id = ( Vth - vd ) / Rth\n",
    "    vdNew = nVt*np.log(id/Is)\n",
    "    return vdNew\n",
    "\n",
    "\n",
    "VbeQ=0.0   # Start value    \n",
    "\n",
    "# Iteration method to obtain VbeQ\n",
    "prevVbeQ = 0.0\n",
    "error=1.0\n",
    "while error > 0.001:\n",
    "    VbeQ=calcVd(VbeQ)\n",
    "    error = VbeQ-prevVbeQ\n",
    "    prevVbeQ = VbeQ\n",
    "    \n",
    "# Show result\n",
    "calc.printVar(\"VbeQ\",VbeQ,\"V\")"
   ]
  },
  {
   "cell_type": "markdown",
   "metadata": {
    "colab_type": "text",
    "id": "hOc3ZRBxOPgg"
   },
   "source": [
    "After obtaining the **$V_{BE}Q$** value, the rest of parameters can be obtained with normal circuit analysis methods.\n",
    "\n",
    ">$I_{BQ}=\\frac{V_{TH}-V_{BEQ}}{R_{TH}}$\n",
    "\n",
    ">$I_{CQ}=\\beta \\cdot I_{BEQ}$\n",
    "\n",
    ">$V_{CEQ}=Vdd - Rc \\cdot I_{CQ}$\n",
    "\n",
    "The code checks for BJT **saturation**. In this case the correct volatages and currents are calculated:\n",
    "\n",
    ">$V_{CE}=V_{CESat}$\n",
    "\n",
    ">$I_{Csat}=\\frac{Vdd-V_{CESat}}{Rc}$\n",
    "\n",
    "The code also includes the voltage on the input capacitor\n",
    "\n",
    ">$V_{CiQ}=-V_{BEQ}$\n",
    "\n",
    "**Execute** the following code to perform the calculations"
   ]
  },
  {
   "cell_type": "code",
   "execution_count": null,
   "metadata": {
    "colab": {
     "base_uri": "https://localhost:8080/",
     "height": 92
    },
    "colab_type": "code",
    "executionInfo": {
     "elapsed": 530,
     "status": "ok",
     "timestamp": 1521327621212,
     "user": {
      "displayName": "Vicente Jimenez",
      "photoUrl": "//lh4.googleusercontent.com/-l1GS4wWn-mI/AAAAAAAAAAI/AAAAAAAAAZE/i_NQ2m6L6rI/s50-c-k-no/photo.jpg",
      "userId": "104735520205871768811"
     },
     "user_tz": -60
    },
    "id": "OQX9VFvITXxR",
    "outputId": "c9506234-ea9b-4d77-9547-9052b098775a"
   },
   "outputs": [
    {
     "name": "stdout",
     "output_type": "stream",
     "text": [
      "VceQ = 5.645 V\n",
      "VciQ = -547.257 mV\n",
      "IbQ = 38.751 uA\n",
      "IcQ = 7.750 mA\n"
     ]
    }
   ],
   "source": [
    "# Calculation of other operating point values    \n",
    "IbQ = (Vth - VbeQ) / Rth\n",
    "IcQ = IbQ*Beta\n",
    "VceQ = Vdd - Rc*IcQ\n",
    "\n",
    "# Check for saturation\n",
    "saturated = False\n",
    "if VceQ < VceSat:\n",
    "    print(\"BJT is saturated!!\")\n",
    "    saturated = True\n",
    "    VceQ = VceSat\n",
    "    IcQ = (Vdd-VceQ)/Rc\n",
    "\n",
    "VciQ = -VbeQ\n",
    "\n",
    "# Show operating point results\n",
    "calc.printVar(\"VceQ\",VceQ,\"V\") \n",
    "calc.printVar(\"VciQ\",VciQ,\"V\")     \n",
    "calc.printVar(\"IbQ\",IbQ,\"A\")\n",
    "calc.printVar(\"IcQ\",IcQ,\"A\")"
   ]
  },
  {
   "cell_type": "markdown",
   "metadata": {
    "colab_type": "text",
    "id": "1pSMTP4-UcH6"
   },
   "source": [
    "## Small signal calculations\n",
    "\n",
    "The BJT small signal parameter can be calculated from the operating point\n",
    "\n",
    ">$g_m = \\frac{I_{CQ}}{\\eta \\cdot V_T}$\n",
    ">$R_\\pi = \\frac{\\beta}{g_m}$\n",
    "\n",
    "And the amplifier voltage gain can be calculated from the small signal circuit\n",
    "\n",
    ">$gain = -Rc \\cdot g_m$\n",
    "\n",
    "If the BJT is **saturated** no small signal model is calculated\n",
    "\n",
    "**Execute** the following block to obtain the small signal values"
   ]
  },
  {
   "cell_type": "code",
   "execution_count": null,
   "metadata": {
    "colab": {
     "base_uri": "https://localhost:8080/",
     "height": 92
    },
    "colab_type": "code",
    "executionInfo": {
     "elapsed": 500,
     "status": "ok",
     "timestamp": 1521327632286,
     "user": {
      "displayName": "Vicente Jimenez",
      "photoUrl": "//lh4.googleusercontent.com/-l1GS4wWn-mI/AAAAAAAAAAI/AAAAAAAAAZE/i_NQ2m6L6rI/s50-c-k-no/photo.jpg",
      "userId": "104735520205871768811"
     },
     "user_tz": -60
    },
    "id": "FeHGDfYOUlj4",
    "outputId": "f8f4a736-521c-469d-be2d-609a3d950062"
   },
   "outputs": [
    {
     "name": "stdout",
     "output_type": "stream",
     "text": [
      "Small signal calculation\n",
      "gm = 149.042 mA/V\n",
      "Rpi = 1.342 kOhm\n",
      "Voltage gain = -122.215 \n"
     ]
    }
   ],
   "source": [
    "# Small signal calculations\n",
    "print(\"Small signal calculation\")\n",
    "\n",
    "if saturated:\n",
    "    # BJT is saturaated\n",
    "    print(\"BJT is saturated\")\n",
    "    print(\"There is no useful small signal model\")\n",
    "  \n",
    "else:\n",
    "    # Small signal calculations\n",
    "    gm  = IcQ/nVt\n",
    "    Rpi = Beta/gm  \n",
    "    gain = -Rc*gm\n",
    "\n",
    "# Show small signal results\n",
    "    calc.printVar(\"gm\",gm,\"A/V\")\n",
    "    calc.printVar(\"Rpi\",Rpi,\"Ohm\")\n",
    "    calc.printVar(\"Voltage gain\",gain,\"\")"
   ]
  },
  {
   "cell_type": "markdown",
   "metadata": {
    "colab_type": "text",
    "id": "AEI87hKjZwmW"
   },
   "source": [
    "## Circuit simulation\n",
    "\n",
    "We can perform a **transient simulation** on the circuit to compare the small signal calculations with a more realistic simulation of the circuit.\n",
    "The simulator calculates, for several time points, the different circuit variables. If there was not any **reactive** component on the circuit, its response could be calculated at each point in time independent to the other points. Reactive components, like the input capacitor **Ci**, however, feature state memory, so its behaviour depends on the past history of the circuit.\n",
    "\n",
    "In the simulator we will use the [**Euler**](https://en.wikipedia.org/wiki/Euler_method) method to solve the evolution of the voltage **$v_c$** on capacitor **Ci**. This voltage can be calculated as:\n",
    "\n",
    ">$v_c=\\frac{1}{C_i}\\int_{-\\infty}^ti_c(\\xi)d\\xi$\n",
    "\n",
    "Using the **Euler** method we divide the time in step intervals of width **$\\Delta t$** and calculate the **$v_c$** evolution as:\n",
    "\n",
    ">$v_c(t+h) = v_c(t)+\\frac{i_c(t)\\cdot \\Delta t}{C_i}$\n",
    "\n",
    "For a more exact solution we can substituye the **Euler** method with the [**Runge-Kutta**](https://en.wikipedia.org/wiki/Runge%E2%80%93Kutta_methods) method.\n",
    "\n",
    "The simulator code works as follows:\n",
    "\n",
    "* We define input signal frequency, time step and total simulation time\n",
    "\n",
    "* We define the start value of the capacitor voltage state variable \n",
    "\n",
    "* We initialize the vectors that will hold the simulation results\n",
    "\n",
    "* we solve the circuit for each time point\n",
    "\n",
    ">* Calculate circuit variables at current time\n",
    "\n",
    ">* Check for BJT saturation\n",
    "\n",
    ">* Store data in output vectors\n",
    "\n",
    ">* Update capacitor voltage using the Euler method\n",
    "\n",
    ">* Update time\n",
    "\n",
    "After the simulation ends, we compute the **ideal** solution of the circuit based on the **small signal** analysis and we compare that with the simulation results.\n",
    "\n",
    "If the BJT is **saturated** in the operating point, the simulation will be performed, but it won't be compared with any small signal solution.\n",
    "\n",
    "**Execute** the following code to perform the simulation\n"
   ]
  },
  {
   "cell_type": "code",
   "execution_count": null,
   "metadata": {
    "colab": {
     "base_uri": "https://localhost:8080/",
     "height": 376
    },
    "colab_type": "code",
    "executionInfo": {
     "elapsed": 1010,
     "status": "ok",
     "timestamp": 1521327678640,
     "user": {
      "displayName": "Vicente Jimenez",
      "photoUrl": "//lh4.googleusercontent.com/-l1GS4wWn-mI/AAAAAAAAAAI/AAAAAAAAAZE/i_NQ2m6L6rI/s50-c-k-no/photo.jpg",
      "userId": "104735520205871768811"
     },
     "user_tz": -60
    },
    "id": "htHGnCE1bGF6",
    "outputId": "900b76e4-9f4f-4d50-8bdc-0d76f627fbe7"
   },
   "outputs": [
    {
     "data": {
      "image/png": "[encoded data removed]",
      "text/plain": [
       "<matplotlib.figure.Figure at 0x7fd1d0b640f0>"
      ]
     },
     "metadata": {
      "tags": []
     },
     "output_type": "display_data"
    }
   ],
   "source": [
    "# Input signal angular frequency\n",
    "# Nominal value: 3150.0 rad/s\n",
    "# You can use w=315.0 with tEnd=0.1 to see the effect of \n",
    "# the capacitor as high pass filter on both amplitude and phase\n",
    "w = 3150.0\n",
    "\n",
    "# Time data\n",
    "# tEnd nominal value is 0.01 s\n",
    "tEnd  = 0.01\n",
    "t     = 0.0\n",
    "tStep = tEnd/1000.0\n",
    "\n",
    "# There is only one state variable\n",
    "vci = VciQ\n",
    "\n",
    "# Output vectors\n",
    "tV =  []  # Time\n",
    "viV = []  # Input voltage\n",
    "voV = []  # Output voltage\n",
    "\n",
    "# Circuit simulation\n",
    "while t < tEnd:\n",
    "    # Calculate circuit variables at current state\n",
    "    vi  = Ai*np.sin(w*t)\n",
    "    vbe = vi - vci\n",
    "    ib  = Is*np.exp(vbe/nVt)\n",
    "    ic = Beta*ib\n",
    "    vo = Vdd - Rc*ic\n",
    "    # Check saturation\n",
    "    if vo < VceSat:\n",
    "        vo = VceSat\n",
    "        ic = (Vdd-VceSat)/Rc\n",
    "    # Compute current on input capacitor Ci    \n",
    "    ici = ib + vbe/Rb + (vbe-Vdd)/Ra \n",
    "    # Store data at current state\n",
    "    tV.append(t)\n",
    "    viV.append(vi)\n",
    "    voV.append(vo)\n",
    "    # Update Ci state variable (Euler)\n",
    "    vci = vci + (ici/Ci)*tStep\n",
    "    # Update time for next step\n",
    "    t = t + tStep\n",
    "    \n",
    "# Compute ideal result from small signal calculations\n",
    "if saturated:\n",
    "    voV_ideal = VceSat * np.ones(len(viV))\n",
    "else:\n",
    "    voV_ideal = VceQ + gain*np.array(viV)\n",
    "    \n",
    "# Inform the calc module if we are inside colaboratory\n",
    "calc.setColaboratory(colaboratory)\n",
    "    \n",
    "# Show results\n",
    "if saturated:\n",
    "    calc.plot11(tV,voV,\"Output voltage transient plot\"\n",
    "           ,\"Time (s)\",\"Vo(V)\")    \n",
    "else:  \n",
    "    calc.plot1n(tV,[voV_ideal,voV],\"Output voltage transient plot\"\n",
    "           ,\"Time (s)\",\"Vo(V)\",[\"Ideal\",\"Computed\"])  "
   ]
  },
  {
   "cell_type": "markdown",
   "metadata": {
    "colab_type": "text",
    "id": "HsoKoVOLfLVj"
   },
   "source": [
    "That's all for this document\n",
    "\n",
    "You can play with the document code changing circuit parameters to see how the response of the circuit changes\n",
    "\n",
    "Beware that some asumptions are made during the calculations so, if you set too irreal values, the results you wil obtain won't make sense.\n",
    "\n",
    "Some interesting tests you can do are:\n",
    "\n",
    "* Change the input amplitude **Ai** to see the effect of cut-off and saturation\n",
    "\n",
    "* Change the **Ra** , **Rb** and **Rc** values to modify the operating point\n",
    "\n",
    "* Change the input signal **frequency** and the **simulation time** to see the filtering effect of the capacitor\n",
    "\n",
    "If you make changes on the circuit you can use the **CRL+F9** combo to execute all the code cells. If you only change the last code cell, you don't need to execute again the previous ones.\n",
    "\n",
    "<BR><BR><BR><BR><BR><BR>\n",
    "\n",
    "## Document information\n",
    "\n",
    "Copyright © Vicente Jiménez (2018)\n",
    "\n",
    "Updated on 18/3/2018\n",
    "\n",
    "This work is licensed under a [Creative Common Attribution-ShareAlike 4.0 International license](http://creativecommons.org/licenses/by-sa/4.0/). \n",
    "\n",
    "See my blogs [AIM65](http://aim65.blogspot.com.es/) (in spanish) and [R6500](http://r6500.blogspot.com.es/) (in english)\n",
    "\n",
    "Other [Colaboratory](https://colab.research.google.com/drive/1-p9U6eK5CdJxYof2AZHV2IHO0lv_gzhM#scrollTo=CMWSJcb9ntOs) documents\n",
    "\n",
    "Circuit drawings are drawn using [TinyCad](https://www.tinycad.net/)\n"
   ]
  }
 ],
 "metadata": {
  "accelerator": "GPU",
  "colab": {
   "collapsed_sections": [],
   "name": "Copy of Common Emitter.ipynb",
   "provenance": [
    {
     "file_id": "1o57vd-1jAhsuXuMI_HxixXEJiKh7cqGU",
     "timestamp": 1573163397204
    }
   ],
   "toc_visible": true
  },
  "kernelspec": {
   "display_name": "Python 3",
   "language": "python",
   "name": "python3"
  },
  "language_info": {
   "codemirror_mode": {
    "name": "ipython",
    "version": 3
   },
   "file_extension": ".py",
   "mimetype": "text/x-python",
   "name": "python",
   "nbconvert_exporter": "python",
   "pygments_lexer": "ipython3",
   "version": "3.8.2"
  }
 },
 "nbformat": 4,
 "nbformat_minor": 4
}
