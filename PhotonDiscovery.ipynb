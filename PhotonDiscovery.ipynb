{
 "cells": [
  {
   "cell_type": "markdown",
   "metadata": {},
   "source": [
    "# Photon Discovery"
   ]
  },
  {
   "cell_type": "markdown",
   "metadata": {},
   "source": [
    "Two new Particle Photon WiFi IoT computers arrived. I installed them per Particle *installation* instructions without issue. I toggled the blue LED on each Photon using Tinker on my Android phone. I progammed both Photons with a demo BLINK LED program also without a hitch. Later I accessed my Photons from remotely outside my home firewall. Tinker had apparently been overwritten by my blink programs. I reflashed Tinker remotely on one of the Photons, and even though I could not see my boards, I toggled the Blue LED using the newly reflashed Tinker. I came home and as expected, the Photon that was not reflashed with Tinker was still blinking the blue LED, and the Photon newly reflashed Photon was not.Both Photons status LED was \"breathing\" cyan. I reprogrammed over Tinker with the blink program. Later that evening I recycled my home router, and both Photons flashed green as they hunted for WiFi connection. Interestingly, the blue LEDs stopped blinking while the Photons hunted for and acquired WiFi. The blink program was apparently preempted by the WiFi hunt. I will need to learn how to keep my programs running when WiFi is down."
   ]
  },
  {
   "cell_type": "markdown",
   "metadata": {},
   "source": [
    "<img src=\"ironFaith-ironHope.jpg\" width=\"400\" />"
   ]
  },
  {
   "cell_type": "markdown",
   "metadata": {},
   "source": [
    "The Particle Arduino compatible Wiring language hid much of the complexity of the blink program. How do I get under the hood to understand the setup and loop functions. How do I determine what libraries and header files are actually being used during the build? What is the precise build process?"
   ]
  },
  {
   "cell_type": "code",
   "execution_count": null,
   "metadata": {
    "collapsed": true,
    "jupyter": {
     "outputs_hidden": true
    }
   },
   "outputs": [],
   "source": []
  }
 ],
 "metadata": {
  "kernelspec": {
   "display_name": "Python 3",
   "language": "python",
   "name": "python3"
  },
  "language_info": {
   "codemirror_mode": {
    "name": "ipython",
    "version": 3
   },
   "file_extension": ".py",
   "mimetype": "text/x-python",
   "name": "python",
   "nbconvert_exporter": "python",
   "pygments_lexer": "ipython3",
   "version": "3.8.2"
  }
 },
 "nbformat": 4,
 "nbformat_minor": 4
}
