{
 "cells": [
  {
   "cell_type": "markdown",
   "metadata": {
    "colab_type": "text",
    "id": "91lXa8c5oRR7"
   },
   "source": [
    "First, we'll mount Drive."
   ]
  },
  {
   "cell_type": "code",
   "execution_count": null,
   "metadata": {
    "colab": {
     "base_uri": "https://localhost:8080/",
     "height": 122
    },
    "colab_type": "code",
    "executionInfo": {
     "elapsed": 27364,
     "status": "ok",
     "timestamp": 1539185930619,
     "user": {
      "displayName": "Bob Smith",
      "photoUrl": "",
      "userId": "06711871111909281119"
     },
     "user_tz": 420
    },
    "id": "hXzGWJivmz60",
    "outputId": "804297e1-f22f-421e-d7b5-9010e9f851ba"
   },
   "outputs": [
    {
     "name": "stdout",
     "output_type": "stream",
     "text": [
      "Go to this URL in a browser: https://accounts.google.com/o/oauth2/auth?client_id=947318989803-6bn6qk8qdgf4n4g3pfee6491hc0brc4i.apps.googleusercontent.com&redirect_uri=urn%3Aietf%3Awg%3Aoauth%3A2.0%3Aoob&scope=email%20https%3A%2F%2Fwww.googleapis.com%2Fauth%2Fdocs.test%20https%3A%2F%2Fwww.googleapis.com%2Fauth%2Fdrive%20https%3A%2F%2Fwww.googleapis.com%2Fauth%2Fdrive.photos.readonly%20https%3A%2F%2Fwww.googleapis.com%2Fauth%2Fpeopleapi.readonly&response_type=code\n",
      "\n",
      "Enter your authorization code:\n",
      "··········\n",
      "Mounted at /content/gdrive\n"
     ]
    }
   ],
   "source": [
    "from google.colab import drive\n",
    "drive.mount('/content/gdrive')"
   ]
  },
  {
   "cell_type": "markdown",
   "metadata": {
    "colab_type": "text",
    "id": "Wku8sXE0oXP9"
   },
   "source": [
    "I happen to have an existing `.py` file in Drive."
   ]
  },
  {
   "cell_type": "code",
   "execution_count": null,
   "metadata": {
    "colab": {
     "base_uri": "https://localhost:8080/",
     "height": 34
    },
    "colab_type": "code",
    "executionInfo": {
     "elapsed": 1191,
     "status": "ok",
     "timestamp": 1539185959888,
     "user": {
      "displayName": "Bob Smith",
      "photoUrl": "",
      "userId": "06711871111909281119"
     },
     "user_tz": 420
    },
    "id": "AdULhsaToPi5",
    "outputId": "1652332b-0d19-4c9e-8eb3-bdd7b4802e8c"
   },
   "outputs": [
    {
     "name": "stdout",
     "output_type": "stream",
     "text": [
      "/content/gdrive/My Drive/mylib.py\n"
     ]
    }
   ],
   "source": [
    "!ls /content/gdrive/My\\ Drive/*.py"
   ]
  },
  {
   "cell_type": "code",
   "execution_count": null,
   "metadata": {
    "colab": {
     "base_uri": "https://localhost:8080/",
     "height": 68
    },
    "colab_type": "code",
    "executionInfo": {
     "elapsed": 1102,
     "status": "ok",
     "timestamp": 1539185973925,
     "user": {
      "displayName": "Bob Smith",
      "photoUrl": "",
      "userId": "06711871111909281119"
     },
     "user_tz": 420
    },
    "id": "WIrBoOh-od6z",
    "outputId": "2d525d0b-e554-46dd-9243-5f035f0dc099"
   },
   "outputs": [
    {
     "name": "stdout",
     "output_type": "stream",
     "text": [
      "\n",
      "def MyFunction():\n",
      "  print ('My imported function')"
     ]
    }
   ],
   "source": [
    "!cat '/content/gdrive/My Drive/mylib.py'"
   ]
  },
  {
   "cell_type": "markdown",
   "metadata": {
    "colab_type": "text",
    "id": "S6Mf8Ojmojmc"
   },
   "source": [
    "We'll need to update our path to import from Drive."
   ]
  },
  {
   "cell_type": "code",
   "execution_count": null,
   "metadata": {
    "colab": {},
    "colab_type": "code",
    "id": "psH0aLrvoh78"
   },
   "outputs": [],
   "source": [
    "import sys\n",
    "sys.path.append('/content/gdrive/My Drive')"
   ]
  },
  {
   "cell_type": "markdown",
   "metadata": {
    "colab_type": "text",
    "id": "dZRgYw_Noz5E"
   },
   "source": [
    "Now we can import the library and use the function."
   ]
  },
  {
   "cell_type": "code",
   "execution_count": null,
   "metadata": {
    "colab": {
     "base_uri": "https://localhost:8080/",
     "height": 34
    },
    "colab_type": "code",
    "executionInfo": {
     "elapsed": 381,
     "status": "ok",
     "timestamp": 1539186056725,
     "user": {
      "displayName": "Bob Smith",
      "photoUrl": "",
      "userId": "06711871111909281119"
     },
     "user_tz": 420
    },
    "id": "sMFs4loUoxBK",
    "outputId": "7cc8f842-82c0-470a-811e-50e5e4850a8e"
   },
   "outputs": [
    {
     "name": "stdout",
     "output_type": "stream",
     "text": [
      "My imported function\n"
     ]
    }
   ],
   "source": [
    "import mylib\n",
    "mylib.MyFunction()"
   ]
  }
 ],
 "metadata": {
  "colab": {
   "collapsed_sections": [],
   "name": "Copy of Loading Python helper from Drive.ipynb",
   "provenance": [
    {
     "file_id": "1uvHuizCBqFgvbCwEhK7FvU8JW0AfxgJw",
     "timestamp": 1573508281286
    }
   ]
  },
  "kernelspec": {
   "display_name": "Python 3",
   "language": "python",
   "name": "python3"
  },
  "language_info": {
   "codemirror_mode": {
    "name": "ipython",
    "version": 3
   },
   "file_extension": ".py",
   "mimetype": "text/x-python",
   "name": "python",
   "nbconvert_exporter": "python",
   "pygments_lexer": "ipython3",
   "version": "3.8.2"
  }
 },
 "nbformat": 4,
 "nbformat_minor": 4
}
